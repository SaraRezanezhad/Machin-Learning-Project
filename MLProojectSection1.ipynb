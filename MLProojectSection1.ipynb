{
  "metadata": {
    "kernelspec": {
      "name": "python3",
      "display_name": "Python 3",
      "language": "python"
    },
    "language_info": {
      "name": "python",
      "version": "3.10.13",
      "mimetype": "text/x-python",
      "codemirror_mode": {
        "name": "ipython",
        "version": 3
      },
      "pygments_lexer": "ipython3",
      "nbconvert_exporter": "python",
      "file_extension": ".py"
    },
    "kaggle": {
      "accelerator": "gpu",
      "dataSources": [],
      "dockerImageVersionId": 30733,
      "isInternetEnabled": true,
      "language": "python",
      "sourceType": "notebook",
      "isGpuEnabled": true
    },
    "colab": {
      "provenance": [],
      "gpuType": "T4"
    },
    "accelerator": "GPU"
  },
  "nbformat_minor": 0,
  "nbformat": 4,
  "cells": [
    {
      "cell_type": "markdown",
      "source": [
        "# ML-Project\n",
        "\n",
        "\n",
        ">Kimia Fakheri -Sara Rezanejad\n",
        "\n"
      ],
      "metadata": {
        "id": "YakjY1oRrvZa"
      }
    },
    {
      "cell_type": "markdown",
      "source": [
        "#Simulation Question 1:"
      ],
      "metadata": {
        "id": "YO845pppueLc"
      }
    },
    {
      "cell_type": "code",
      "source": [
        "import torch\n",
        "from torchvision import datasets, transforms\n",
        "from torch.utils.data import DataLoader\n",
        "\n",
        "def load_and_preprocess_data(batch_size=64):\n",
        "    # CIFAR-10 normalization parameters\n",
        "    normalize = transforms.Normalize(mean=[0.4914, 0.4822, 0.4465],\n",
        "                                     std=[0.2023, 0.1994, 0.2010])\n",
        "\n",
        "    # Define transformations including normalization\n",
        "    transform = transforms.Compose([\n",
        "        transforms.ToTensor(),\n",
        "        normalize,\n",
        "    ])\n",
        "\n",
        "    # Load CIFAR-10 dataset\n",
        "    train_data = datasets.CIFAR10(root='data', train=True, download=True, transform=transform)\n",
        "    test_data = datasets.CIFAR10(root='data', train=False, download=True, transform=transform)\n",
        "\n",
        "    # Create data loaders\n",
        "    train_loader = DataLoader(train_data, batch_size=batch_size, shuffle=False, pin_memory=True, num_workers=2)\n",
        "    test_loader = DataLoader(test_data, batch_size=batch_size, shuffle=False, pin_memory=True, num_workers=2)\n",
        "\n",
        "    return train_loader, test_loader\n",
        "\n",
        "train_loader, test_loader = load_and_preprocess_data()"
      ],
      "metadata": {
        "colab": {
          "base_uri": "https://localhost:8080/"
        },
        "id": "cBoXZ9kkEmMq",
        "outputId": "43e0fcd8-be04-4fd3-cbe1-84073ace267a",
        "execution": {
          "iopub.status.busy": "2024-07-02T14:28:53.123386Z",
          "iopub.execute_input": "2024-07-02T14:28:53.124073Z",
          "iopub.status.idle": "2024-07-02T14:29:13.926070Z",
          "shell.execute_reply.started": "2024-07-02T14:28:53.124044Z",
          "shell.execute_reply": "2024-07-02T14:29:13.925181Z"
        },
        "trusted": true
      },
      "execution_count": null,
      "outputs": [
        {
          "name": "stdout",
          "text": "Downloading https://www.cs.toronto.edu/~kriz/cifar-10-python.tar.gz to data/cifar-10-python.tar.gz\n",
          "output_type": "stream"
        },
        {
          "name": "stderr",
          "text": "100%|██████████| 170498071/170498071 [00:10<00:00, 15809508.03it/s]\n",
          "output_type": "stream"
        },
        {
          "name": "stdout",
          "text": "Extracting data/cifar-10-python.tar.gz to data\nFiles already downloaded and verified\n",
          "output_type": "stream"
        }
      ]
    },
    {
      "cell_type": "code",
      "source": [
        "import torch\n",
        "import torch.nn as nn\n",
        "import torchvision.models as models\n",
        "\n",
        "device = torch.device(\"cuda\" if torch.cuda.is_available() else \"cpu\")\n",
        "\n",
        "import copy\n",
        "def create_model(device=device):\n",
        "# Load the pre-trained model\n",
        "    model = torchvision.models.resnet18(pretrained=True)\n",
        "# Add more layers to the model\n",
        "    model.fc = nn.Sequential(\n",
        "        nn.Linear(512, 256),\n",
        "        nn.ReLU(),\n",
        "        nn.Dropout(0.3),\n",
        "        nn.Linear(256, 128),\n",
        "        nn.ReLU(),\n",
        "        nn.Dropout(0.2),\n",
        "        nn.Linear(128, 10)  # CIFAR10 has 10 classes\n",
        "    )\n",
        "    return model.to(device)\n",
        "\n",
        "model = create_model"
      ],
      "metadata": {
        "id": "CYnsyODHEmMx",
        "execution": {
          "iopub.status.busy": "2024-07-02T14:29:19.330717Z",
          "iopub.execute_input": "2024-07-02T14:29:19.331198Z",
          "iopub.status.idle": "2024-07-02T14:29:19.360365Z",
          "shell.execute_reply.started": "2024-07-02T14:29:19.331170Z",
          "shell.execute_reply": "2024-07-02T14:29:19.359435Z"
        },
        "trusted": true
      },
      "execution_count": null,
      "outputs": []
    },
    {
      "cell_type": "code",
      "source": [
        "import torch\n",
        "import torch.nn as nn\n",
        "import torch.optim as optim\n",
        "\n",
        "def train_model(model, train_loader, epochs, shardNum, device=device):\n",
        "    criterion = nn.CrossEntropyLoss()\n",
        "    optimizer = optim.Adam(model.parameters(), lr=0.001)\n",
        "\n",
        "    model.train()\n",
        "    model.to(device)\n",
        "\n",
        "    for epoch in range(epochs):\n",
        "        running_loss = 0.0\n",
        "        correct = 0\n",
        "        total = 0\n",
        "\n",
        "        for images, labels in train_loader:\n",
        "            images, labels = images.to(device), labels.to(device)  # Move data to the appropriate device\n",
        "            optimizer.zero_grad()\n",
        "            outputs = model(images)\n",
        "            loss = criterion(outputs, labels)\n",
        "            loss.backward()\n",
        "            optimizer.step()\n",
        "\n",
        "            running_loss += loss.item()\n",
        "            _, predicted = torch.max(outputs.data, 1)\n",
        "            total += labels.size(0)\n",
        "            correct += (predicted == labels).sum().item()\n",
        "\n",
        "        epoch_loss = running_loss / len(train_loader)\n",
        "        epoch_accuracy = 100 * correct / total\n",
        "        print(f\"Shard [{shardNum}], Epoch [{epoch+1}/{epochs}], Loss: {epoch_loss:.4f}, Accuracy: {epoch_accuracy:.2f}%\")\n",
        "\n",
        "    return model"
      ],
      "metadata": {
        "id": "ek5iok4sEmMz",
        "execution": {
          "iopub.status.busy": "2024-07-02T14:29:41.748389Z",
          "iopub.execute_input": "2024-07-02T14:29:41.749067Z",
          "iopub.status.idle": "2024-07-02T14:29:41.757685Z",
          "shell.execute_reply.started": "2024-07-02T14:29:41.749037Z",
          "shell.execute_reply": "2024-07-02T14:29:41.756700Z"
        },
        "trusted": true
      },
      "execution_count": null,
      "outputs": []
    },
    {
      "cell_type": "code",
      "source": [
        "import torch\n",
        "import torch.nn as nn\n",
        "import torch.optim as optim\n",
        "from torch.utils.data import DataLoader\n",
        "import torchvision\n",
        "import torchvision.transforms as transforms\n",
        "\n",
        "from torch.utils.data import DataLoader, Subset\n",
        "\n",
        "def sisa_training(train_data, shards, slices, epochs_per_slice, device=device):\n",
        "    shard_size = len(train_data) // shards\n",
        "    models = []\n",
        "\n",
        "    for s in range(shards):\n",
        "        shard_data = Subset(train_data, range(s * shard_size, (s + 1) * shard_size))\n",
        "        shard_loader = DataLoader(shard_data, batch_size=64, shuffle=True, pin_memory=True, num_workers=2)\n",
        "\n",
        "        slice_size = shard_size // slices\n",
        "        slice_models = []\n",
        "\n",
        "        for r in range(slices):\n",
        "            slice_data = Subset(shard_data, range(0, (r + 1) * slice_size))\n",
        "            slice_loader = DataLoader(slice_data, batch_size=64, shuffle=True, pin_memory=True, num_workers=2)\n",
        "            if r == 0:\n",
        "                model = create_model(device=device)\n",
        "                model = train_model(model, slice_loader, epochs_per_slice, s, device)\n",
        "            else:\n",
        "                model = train_model(model, slice_loader, epochs_per_slice, s, device)\n",
        "\n",
        "            slice_models.append(model)\n",
        "\n",
        "        models.append(slice_models)\n",
        "\n",
        "    return models"
      ],
      "metadata": {
        "id": "AyjqFeqIEmM0",
        "execution": {
          "iopub.status.busy": "2024-07-02T14:29:48.355021Z",
          "iopub.execute_input": "2024-07-02T14:29:48.355838Z",
          "iopub.status.idle": "2024-07-02T14:29:48.364631Z",
          "shell.execute_reply.started": "2024-07-02T14:29:48.355798Z",
          "shell.execute_reply": "2024-07-02T14:29:48.363814Z"
        },
        "trusted": true
      },
      "execution_count": null,
      "outputs": []
    },
    {
      "cell_type": "markdown",
      "source": [
        "#Simulation Question 2 , 3:"
      ],
      "metadata": {
        "id": "VAqHLfOkulzl"
      }
    },
    {
      "cell_type": "code",
      "source": [
        "import torch\n",
        "from sklearn.metrics import accuracy_score, f1_score, recall_score, precision_score, roc_auc_score\n",
        "import numpy as np\n",
        "\n",
        "def evaluate_models(models_list, test_loader, device):\n",
        "    all_labels = []\n",
        "    all_probs = []\n",
        "    all_preds = []\n",
        "\n",
        "    # Set all models to evaluation mode\n",
        "    for models in models_list:\n",
        "        models[-1].eval()\n",
        "\n",
        "    with torch.no_grad():\n",
        "        for data in test_loader:\n",
        "            inputs, labels = data\n",
        "            inputs, labels = inputs.to(device), labels.to(device)\n",
        "\n",
        "            # Collect predictions and probabilities from all models\n",
        "            model_probs = []\n",
        "            for models in models_list:\n",
        "                model = models[-1]\n",
        "                outputs = model(inputs)\n",
        "                probs = torch.softmax(outputs, dim=1)\n",
        "                model_probs.append(probs.cpu().numpy())\n",
        "\n",
        "            # Average probabilities\n",
        "            avg_probs = np.mean(np.array(model_probs), axis=0)\n",
        "            majority_vote_preds = np.argmax(avg_probs, axis=1)\n",
        "\n",
        "            all_labels.extend(labels.cpu().numpy())\n",
        "            all_probs.extend(avg_probs)\n",
        "            all_preds.extend(majority_vote_preds)\n",
        "\n",
        "    accuracy = accuracy_score(all_labels, all_preds)\n",
        "    f1 = f1_score(all_labels, all_preds, average='macro')\n",
        "    recall = recall_score(all_labels, all_preds, average='macro')\n",
        "    precision = precision_score(all_labels, all_preds, average='macro')\n",
        "\n",
        "    # Compute AUROC for multi-class\n",
        "    try:\n",
        "        auroc = roc_auc_score(all_labels, all_probs, multi_class='ovr', average='macro')\n",
        "    except ValueError:\n",
        "        auroc = None  # Handle case where roc_auc_score cannot be computed\n",
        "\n",
        "    return accuracy, f1, recall, precision, auroc"
      ],
      "metadata": {
        "id": "r_y7mvraEmM1",
        "execution": {
          "iopub.status.busy": "2024-07-02T14:29:59.547733Z",
          "iopub.execute_input": "2024-07-02T14:29:59.548091Z",
          "iopub.status.idle": "2024-07-02T14:30:00.176697Z",
          "shell.execute_reply.started": "2024-07-02T14:29:59.548064Z",
          "shell.execute_reply": "2024-07-02T14:30:00.175733Z"
        },
        "trusted": true
      },
      "execution_count": null,
      "outputs": []
    },
    {
      "cell_type": "code",
      "source": [
        "# Unlearn\n",
        "import random\n",
        "from collections import defaultdict\n",
        "from torch.utils.data import DataLoader, Subset, TensorDataset\n",
        "from sklearn import linear_model, model_selection\n",
        "num = 50000\n",
        "N = 50000\n",
        "random_numbers = [random.randint(0, num) for _ in range(500)]\n",
        "random_numbers.sort()\n",
        "\n",
        "remaining_indices = list(set(range(N)) - set(random_numbers))\n",
        "\n",
        "trainset = train_loader.dataset\n",
        "\n",
        "subset1 = Subset(trainset, random_numbers)\n",
        "subset2 = Subset(trainset, remaining_indices)\n",
        "\n",
        "# Create data loaders\n",
        "forgetloader = DataLoader(subset1, batch_size=64, shuffle=True)\n",
        "retainloader = DataLoader(subset2, batch_size=64, shuffle=True)\n",
        "\n",
        "def sisa_unlearning(M_ks, random_numbers, shards, slices, epochs_per_slice, train_data, device, num=60000):\n",
        "    intervals = [(i*num/shards+j*num/shards/slices, i*num/shards+(j+1)*num/shards/slices) for i in range(shards) for j in range(slices)]\n",
        "    sli = {i*num/shards+j*num/shards/slices: (i, j) for i in range(shards) for j in range(slices)}\n",
        "\n",
        "    unlearn_indices = random_numbers.copy()\n",
        "    numbers_in_intervals = []\n",
        "    unlearn_slices = []\n",
        "\n",
        "    for lower_bound, upper_bound in intervals:\n",
        "        number_in_interval = next((num for num in random_numbers if lower_bound <= num <= upper_bound), None)\n",
        "        if number_in_interval is not None:\n",
        "            numbers_in_intervals.append(number_in_interval)\n",
        "            random_numbers.remove(number_in_interval)\n",
        "            if sli[lower_bound][0] not in [slcs[0] for slcs in unlearn_slices]:\n",
        "                unlearn_slices.append(sli[lower_bound])\n",
        "\n",
        "    to_delete = defaultdict(list)\n",
        "    for i in unlearn_indices:\n",
        "        to_delete[i // (num // shards)].append(i % (num // shards))\n",
        "\n",
        "    train_data_shards = [Subset(train_data, range(i * (num // shards), (i + 1) * (num // shards))) for i in range(shards)]\n",
        "\n",
        "    for shrd, slc in unlearn_slices:\n",
        "        j = slc\n",
        "        if j == 0:\n",
        "            model = create_model(device=device)\n",
        "        else:\n",
        "            model = M_ks[shrd][j-1]\n",
        "\n",
        "        while j != slices:\n",
        "            ts = Subset(train_data_shards[shrd], range((j + 1) * len(train_data) // shards // slices))\n",
        "            data = torch.stack([item[0] for item in ts]).to(device)\n",
        "            indices_to_remove = [i for i in to_delete[shrd] if i < (j + 1) * len(train_data) // shards // slices]\n",
        "            mask = torch.ones(len(data), dtype=bool)\n",
        "            mask[indices_to_remove] = False\n",
        "            filtered_data = data[mask]\n",
        "            targets = torch.tensor([item[1] for item in ts]).to(device)\n",
        "            filtered_targets = targets[mask]\n",
        "\n",
        "            filtered_dataset = TensorDataset(filtered_data, filtered_targets)\n",
        "            trainloader = DataLoader(filtered_dataset, batch_size=128, shuffle=True)\n",
        "\n",
        "            model = train_model(model, trainloader, epochs=epochs_per_slice, shardNum=shrd, device=device)\n",
        "\n",
        "            M_ks[shrd][j] = model\n",
        "            j += 1\n",
        "\n",
        "    return M_ks\n",
        "\n",
        "def compute_losses(models, dataloader, shards, slices, device):\n",
        "    \"\"\"Auxiliary function to compute per-sample losses\"\"\"\n",
        "\n",
        "    criterion = nn.CrossEntropyLoss(reduction=\"none\")\n",
        "    all_losses = []\n",
        "\n",
        "    for inputs, targets in dataloader:\n",
        "        inputs, targets = inputs.to(device), targets.to(device)\n",
        "        logits = 0\n",
        "        for i in range(shards):\n",
        "            model = models[i][slices - 1]\n",
        "            model = model.to(device)\n",
        "            outputs = model(inputs)\n",
        "            logits += outputs.data / shards\n",
        "        losses = criterion(logits, targets).cpu().numpy()  # Ensure the losses are moved to CPU before converting to numpy\n",
        "        all_losses.extend(losses)\n",
        "\n",
        "    return np.array(all_losses)\n",
        "\n",
        "def simple_mia(sample_loss, members, n_splits=10, random_state=0):\n",
        "    \"\"\"Computes cross-validation score of a membership inference attack.\"\"\"\n",
        "\n",
        "    unique_members = np.unique(members)\n",
        "    if not np.all(unique_members == np.array([0, 1])):\n",
        "        raise ValueError(\"members should only have 0 and 1s\")\n",
        "\n",
        "    attack_model = linear_model.LogisticRegression()\n",
        "    cv = model_selection.StratifiedShuffleSplit(\n",
        "        n_splits=n_splits, random_state=random_state\n",
        "    )\n",
        "    return model_selection.cross_val_score(\n",
        "        attack_model, sample_loss, members, cv=cv, scoring=\"accuracy\"\n",
        "    )\n",
        "\n",
        "def consolidated_function(models, loader1, loader2, shards, slices, device, n_splits=10, random_state=0, num_data=500):\n",
        "    \"\"\"Combines the process of computing losses, balancing loaders, and performing MIA.\"\"\"\n",
        "\n",
        "    # Compute losses\n",
        "    loader1_losses = compute_losses(models, loader1, shards, slices, device)\n",
        "    loader2_losses = compute_losses(models, loader2, shards, slices, device)\n",
        "\n",
        "    np.random.shuffle(loader1_losses)\n",
        "    loader1_losses = loader1_losses[:num_data]\n",
        "    np.random.shuffle(loader2_losses)\n",
        "    loader2_losses = loader2_losses[:num_data]\n",
        "\n",
        "    # Prepare samples and labels for MIA\n",
        "    samples_mia = np.concatenate((loader2_losses, loader1_losses)).reshape((-1, 1))\n",
        "    labels_mia = [0] * len(loader2_losses) + [1] * len(loader1_losses)\n",
        "\n",
        "    # Perform MIA\n",
        "    mia_scores = simple_mia(samples_mia, labels_mia, n_splits=n_splits, random_state=random_state)\n",
        "\n",
        "    return mia_scores"
      ],
      "metadata": {
        "id": "CdIDNZLNEmM2",
        "execution": {
          "iopub.status.busy": "2024-07-02T14:30:37.293836Z",
          "iopub.execute_input": "2024-07-02T14:30:37.294462Z",
          "iopub.status.idle": "2024-07-02T14:30:37.412179Z",
          "shell.execute_reply.started": "2024-07-02T14:30:37.294432Z",
          "shell.execute_reply": "2024-07-02T14:30:37.411255Z"
        },
        "trusted": true
      },
      "execution_count": null,
      "outputs": []
    },
    {
      "cell_type": "markdown",
      "source": [
        "# Learn S=5, R=5:"
      ],
      "metadata": {
        "id": "iVKUxA9TEmM4"
      }
    },
    {
      "cell_type": "code",
      "source": [
        "epochs_per_slice = 3  # Number of epochs for each slice\n",
        "shards = 5\n",
        "slices = 5\n",
        "trained_models = sisa_training(train_loader.dataset, shards, slices, epochs_per_slice, device)\n",
        "f1, accuracy, precision, recall, auroc = evaluate_models(trained_models, test_loader, device)\n",
        "print(f\"F1 Score: {f1}\")\n",
        "print(f\"Accuracy: {accuracy}\")\n",
        "print(f\"Precision: {precision}\")\n",
        "print(f\"Recall: {recall}\")\n",
        "print(f\"AUROC: {auroc}\")\n",
        "# Simulation Question 3:\n",
        "print(f\"MIA Cross-Validation Score for retainset, and test set for trained(not unlearned model): {np.mean(consolidated_function(trained_models, retainloader, test_loader, shards, slices, device))}\")\n",
        "print(f\"MIA Cross-Validation Score for forgetset, and test set for trained(not unlearned model): {np.mean(consolidated_function(trained_models, forgetloader, test_loader, shards, slices, device))}\")"
      ],
      "metadata": {
        "id": "ugRwNBbbEmM6",
        "outputId": "bac5a348-129f-4752-fea7-51cdb159f91f",
        "execution": {
          "iopub.status.busy": "2024-07-02T14:30:48.753059Z",
          "iopub.execute_input": "2024-07-02T14:30:48.753676Z",
          "iopub.status.idle": "2024-07-02T14:34:04.632610Z",
          "shell.execute_reply.started": "2024-07-02T14:30:48.753643Z",
          "shell.execute_reply": "2024-07-02T14:34:04.631486Z"
        },
        "trusted": true
      },
      "execution_count": null,
      "outputs": [
        {
          "name": "stderr",
          "text": "/opt/conda/lib/python3.10/site-packages/torchvision/models/_utils.py:208: UserWarning: The parameter 'pretrained' is deprecated since 0.13 and may be removed in the future, please use 'weights' instead.\n  warnings.warn(\n/opt/conda/lib/python3.10/site-packages/torchvision/models/_utils.py:223: UserWarning: Arguments other than a weight enum or `None` for 'weights' are deprecated since 0.13 and may be removed in the future. The current behavior is equivalent to passing `weights=ResNet18_Weights.IMAGENET1K_V1`. You can also use `weights=ResNet18_Weights.DEFAULT` to get the most up-to-date weights.\n  warnings.warn(msg)\nDownloading: \"https://download.pytorch.org/models/resnet18-f37072fd.pth\" to /root/.cache/torch/hub/checkpoints/resnet18-f37072fd.pth\n100%|██████████| 44.7M/44.7M [00:00<00:00, 71.8MB/s]\n",
          "output_type": "stream"
        },
        {
          "name": "stdout",
          "text": "Shard [0], Epoch [1/3], Loss: 1.8900, Accuracy: 31.85%\nShard [0], Epoch [2/3], Loss: 1.2762, Accuracy: 57.00%\nShard [0], Epoch [3/3], Loss: 1.0835, Accuracy: 64.75%\nShard [0], Epoch [1/3], Loss: 1.2470, Accuracy: 61.23%\nShard [0], Epoch [2/3], Loss: 0.9222, Accuracy: 71.38%\nShard [0], Epoch [3/3], Loss: 0.7706, Accuracy: 76.83%\nShard [0], Epoch [1/3], Loss: 0.9270, Accuracy: 72.55%\nShard [0], Epoch [2/3], Loss: 0.7036, Accuracy: 78.73%\nShard [0], Epoch [3/3], Loss: 0.5748, Accuracy: 83.42%\nShard [0], Epoch [1/3], Loss: 0.6952, Accuracy: 80.01%\nShard [0], Epoch [2/3], Loss: 0.5453, Accuracy: 84.28%\nShard [0], Epoch [3/3], Loss: 0.4480, Accuracy: 87.46%\nShard [0], Epoch [1/3], Loss: 0.5236, Accuracy: 85.19%\nShard [0], Epoch [2/3], Loss: 0.4012, Accuracy: 88.29%\nShard [0], Epoch [3/3], Loss: 0.3345, Accuracy: 90.57%\nShard [1], Epoch [1/3], Loss: 1.8973, Accuracy: 33.35%\nShard [1], Epoch [2/3], Loss: 1.3833, Accuracy: 51.95%\nShard [1], Epoch [3/3], Loss: 1.0792, Accuracy: 64.80%\nShard [1], Epoch [1/3], Loss: 1.2415, Accuracy: 60.05%\nShard [1], Epoch [2/3], Loss: 0.9459, Accuracy: 71.10%\nShard [1], Epoch [3/3], Loss: 0.7632, Accuracy: 76.85%\nShard [1], Epoch [1/3], Loss: 0.8944, Accuracy: 72.45%\nShard [1], Epoch [2/3], Loss: 0.6876, Accuracy: 79.33%\nShard [1], Epoch [3/3], Loss: 0.5955, Accuracy: 82.28%\nShard [1], Epoch [1/3], Loss: 0.6978, Accuracy: 79.84%\nShard [1], Epoch [2/3], Loss: 0.5162, Accuracy: 84.64%\nShard [1], Epoch [3/3], Loss: 0.4105, Accuracy: 87.71%\nShard [1], Epoch [1/3], Loss: 0.5484, Accuracy: 84.65%\nShard [1], Epoch [2/3], Loss: 0.4062, Accuracy: 88.60%\nShard [1], Epoch [3/3], Loss: 0.3432, Accuracy: 90.33%\nShard [2], Epoch [1/3], Loss: 1.8959, Accuracy: 30.20%\nShard [2], Epoch [2/3], Loss: 1.3763, Accuracy: 52.95%\nShard [2], Epoch [3/3], Loss: 1.1226, Accuracy: 65.00%\nShard [2], Epoch [1/3], Loss: 1.2155, Accuracy: 61.67%\nShard [2], Epoch [2/3], Loss: 0.9235, Accuracy: 71.40%\nShard [2], Epoch [3/3], Loss: 0.7896, Accuracy: 76.33%\nShard [2], Epoch [1/3], Loss: 0.8738, Accuracy: 73.43%\nShard [2], Epoch [2/3], Loss: 0.6928, Accuracy: 78.68%\nShard [2], Epoch [3/3], Loss: 0.5853, Accuracy: 82.45%\nShard [2], Epoch [1/3], Loss: 0.6986, Accuracy: 79.03%\nShard [2], Epoch [2/3], Loss: 0.5211, Accuracy: 84.75%\nShard [2], Epoch [3/3], Loss: 0.4244, Accuracy: 87.35%\nShard [2], Epoch [1/3], Loss: 0.5453, Accuracy: 84.13%\nShard [2], Epoch [2/3], Loss: 0.3967, Accuracy: 88.73%\nShard [2], Epoch [3/3], Loss: 0.3499, Accuracy: 90.09%\nShard [3], Epoch [1/3], Loss: 1.8642, Accuracy: 35.70%\nShard [3], Epoch [2/3], Loss: 1.3190, Accuracy: 55.15%\nShard [3], Epoch [3/3], Loss: 1.0903, Accuracy: 64.50%\nShard [3], Epoch [1/3], Loss: 1.2158, Accuracy: 61.38%\nShard [3], Epoch [2/3], Loss: 0.9577, Accuracy: 69.88%\nShard [3], Epoch [3/3], Loss: 0.7804, Accuracy: 75.67%\nShard [3], Epoch [1/3], Loss: 0.9026, Accuracy: 72.75%\nShard [3], Epoch [2/3], Loss: 0.6876, Accuracy: 79.62%\nShard [3], Epoch [3/3], Loss: 0.5646, Accuracy: 83.02%\nShard [3], Epoch [1/3], Loss: 0.6937, Accuracy: 80.25%\nShard [3], Epoch [2/3], Loss: 0.5233, Accuracy: 85.19%\nShard [3], Epoch [3/3], Loss: 0.4031, Accuracy: 88.16%\nShard [3], Epoch [1/3], Loss: 0.5244, Accuracy: 85.28%\nShard [3], Epoch [2/3], Loss: 0.4001, Accuracy: 88.75%\nShard [3], Epoch [3/3], Loss: 0.3475, Accuracy: 90.01%\nShard [4], Epoch [1/3], Loss: 1.8893, Accuracy: 31.90%\nShard [4], Epoch [2/3], Loss: 1.2979, Accuracy: 56.60%\nShard [4], Epoch [3/3], Loss: 1.1034, Accuracy: 66.35%\nShard [4], Epoch [1/3], Loss: 1.2068, Accuracy: 61.85%\nShard [4], Epoch [2/3], Loss: 0.9119, Accuracy: 71.45%\nShard [4], Epoch [3/3], Loss: 0.7142, Accuracy: 78.15%\nShard [4], Epoch [1/3], Loss: 0.8889, Accuracy: 74.13%\nShard [4], Epoch [2/3], Loss: 0.6459, Accuracy: 81.08%\nShard [4], Epoch [3/3], Loss: 0.5382, Accuracy: 83.70%\nShard [4], Epoch [1/3], Loss: 0.6661, Accuracy: 80.34%\nShard [4], Epoch [2/3], Loss: 0.4922, Accuracy: 85.22%\nShard [4], Epoch [3/3], Loss: 0.4227, Accuracy: 87.47%\nShard [4], Epoch [1/3], Loss: 0.5155, Accuracy: 85.21%\nShard [4], Epoch [2/3], Loss: 0.3953, Accuracy: 88.42%\nShard [4], Epoch [3/3], Loss: 0.3319, Accuracy: 89.86%\nF1 Score: 0.8021\nAccuracy: 0.8031471846169425\nPrecision: 0.8021\nRecall: 0.8060956740797177\nAUROC: 0.9760737111111112\nMIA Cross-Validation Score for retainset, and test set for trained(not unlearned model): 0.542\nMIA Cross-Validation Score for forgetset, and test set for trained(not unlearned model): 0.541\n",
          "output_type": "stream"
        }
      ]
    },
    {
      "cell_type": "markdown",
      "source": [
        "# Unlearn S=5, R=5:"
      ],
      "metadata": {
        "id": "90Bdn-WGEmM7"
      }
    },
    {
      "cell_type": "code",
      "source": [
        "trained_models = sisa_unlearning(trained_models, random_numbers, shards, slices, epochs_per_slice, train_loader.dataset, device)\n",
        "f1, accuracy, precision, recall, auroc = evaluate_models(trained_models, test_loader, device)\n",
        "print(f\"F1 Score: {f1}\")\n",
        "print(f\"Accuracy: {accuracy}\")\n",
        "print(f\"Precision: {precision}\")\n",
        "print(f\"Recall: {recall}\")\n",
        "print(f\"AUROC: {auroc}\")\n",
        "# Simulation Question 3:\n",
        "print(f\"MIA Cross-Validation Score for retainset, and test set for unlearned model: {np.mean(consolidated_function(trained_models, retainloader, test_loader, shards, slices, device))}\")\n",
        "print(f\"MIA Cross-Validation Score for forgetset, and test set for unlearned model: {np.mean(consolidated_function(trained_models, forgetloader, test_loader, shards, slices, device))}\")"
      ],
      "metadata": {
        "id": "QWs0aktAEmM8",
        "outputId": "99e2cdcd-d410-4bff-b436-08121404443b",
        "execution": {
          "iopub.status.busy": "2024-07-02T14:34:04.635078Z",
          "iopub.execute_input": "2024-07-02T14:34:04.635880Z",
          "iopub.status.idle": "2024-07-02T14:38:57.788228Z",
          "shell.execute_reply.started": "2024-07-02T14:34:04.635841Z",
          "shell.execute_reply": "2024-07-02T14:38:57.787138Z"
        },
        "trusted": true
      },
      "execution_count": null,
      "outputs": [
        {
          "name": "stderr",
          "text": "/opt/conda/lib/python3.10/site-packages/torchvision/models/_utils.py:208: UserWarning: The parameter 'pretrained' is deprecated since 0.13 and may be removed in the future, please use 'weights' instead.\n  warnings.warn(\n/opt/conda/lib/python3.10/site-packages/torchvision/models/_utils.py:223: UserWarning: Arguments other than a weight enum or `None` for 'weights' are deprecated since 0.13 and may be removed in the future. The current behavior is equivalent to passing `weights=ResNet18_Weights.IMAGENET1K_V1`. You can also use `weights=ResNet18_Weights.DEFAULT` to get the most up-to-date weights.\n  warnings.warn(msg)\n",
          "output_type": "stream"
        },
        {
          "name": "stdout",
          "text": "Shard [0], Epoch [1/3], Loss: 1.9004, Accuracy: 31.78%\nShard [0], Epoch [2/3], Loss: 1.1869, Accuracy: 60.08%\nShard [0], Epoch [3/3], Loss: 0.8016, Accuracy: 74.38%\nShard [0], Epoch [1/3], Loss: 1.0132, Accuracy: 69.05%\nShard [0], Epoch [2/3], Loss: 0.6922, Accuracy: 79.22%\nShard [0], Epoch [3/3], Loss: 0.4905, Accuracy: 85.98%\nShard [0], Epoch [1/3], Loss: 0.7760, Accuracy: 77.32%\nShard [0], Epoch [2/3], Loss: 0.5087, Accuracy: 85.16%\nShard [0], Epoch [3/3], Loss: 0.3790, Accuracy: 88.96%\nShard [0], Epoch [1/3], Loss: 0.5788, Accuracy: 83.58%\nShard [0], Epoch [2/3], Loss: 0.3879, Accuracy: 89.22%\nShard [0], Epoch [3/3], Loss: 0.3186, Accuracy: 91.33%\nShard [0], Epoch [1/3], Loss: 0.4633, Accuracy: 86.89%\nShard [0], Epoch [2/3], Loss: 0.3125, Accuracy: 91.31%\nShard [0], Epoch [3/3], Loss: 0.2672, Accuracy: 92.40%\nShard [1], Epoch [1/3], Loss: 2.0144, Accuracy: 24.75%\nShard [1], Epoch [2/3], Loss: 1.2736, Accuracy: 56.96%\nShard [1], Epoch [3/3], Loss: 0.9132, Accuracy: 70.97%\nShard [1], Epoch [1/3], Loss: 1.1181, Accuracy: 65.22%\nShard [1], Epoch [2/3], Loss: 0.7337, Accuracy: 76.86%\nShard [1], Epoch [3/3], Loss: 0.5775, Accuracy: 82.61%\nShard [1], Epoch [1/3], Loss: 0.7790, Accuracy: 77.01%\nShard [1], Epoch [2/3], Loss: 0.5210, Accuracy: 84.76%\nShard [1], Epoch [3/3], Loss: 0.4328, Accuracy: 87.53%\nShard [1], Epoch [1/3], Loss: 0.6036, Accuracy: 82.38%\nShard [1], Epoch [2/3], Loss: 0.4175, Accuracy: 87.72%\nShard [1], Epoch [3/3], Loss: 0.3112, Accuracy: 91.36%\nShard [1], Epoch [1/3], Loss: 0.4679, Accuracy: 86.44%\nShard [1], Epoch [2/3], Loss: 0.3297, Accuracy: 90.68%\nShard [1], Epoch [3/3], Loss: 0.2579, Accuracy: 92.92%\nShard [2], Epoch [1/3], Loss: 1.9717, Accuracy: 29.57%\nShard [2], Epoch [2/3], Loss: 1.2661, Accuracy: 57.08%\nShard [2], Epoch [3/3], Loss: 0.8823, Accuracy: 70.18%\nShard [2], Epoch [1/3], Loss: 1.0421, Accuracy: 67.79%\nShard [2], Epoch [2/3], Loss: 0.7285, Accuracy: 77.96%\nShard [2], Epoch [3/3], Loss: 0.5140, Accuracy: 84.54%\nShard [2], Epoch [1/3], Loss: 0.7664, Accuracy: 77.30%\nShard [2], Epoch [2/3], Loss: 0.5213, Accuracy: 84.79%\nShard [2], Epoch [3/3], Loss: 0.3971, Accuracy: 88.62%\nShard [2], Epoch [1/3], Loss: 0.5826, Accuracy: 83.32%\nShard [2], Epoch [2/3], Loss: 0.4089, Accuracy: 88.17%\nShard [2], Epoch [3/3], Loss: 0.3254, Accuracy: 90.69%\nShard [2], Epoch [1/3], Loss: 0.4854, Accuracy: 85.73%\nShard [2], Epoch [2/3], Loss: 0.3181, Accuracy: 91.03%\nShard [2], Epoch [3/3], Loss: 0.2535, Accuracy: 92.61%\nShard [3], Epoch [1/3], Loss: 2.0210, Accuracy: 25.56%\nShard [3], Epoch [2/3], Loss: 1.3046, Accuracy: 57.73%\nShard [3], Epoch [3/3], Loss: 0.9012, Accuracy: 70.76%\nShard [3], Epoch [1/3], Loss: 1.1307, Accuracy: 65.51%\nShard [3], Epoch [2/3], Loss: 0.7472, Accuracy: 77.21%\nShard [3], Epoch [3/3], Loss: 0.6236, Accuracy: 81.06%\nShard [3], Epoch [1/3], Loss: 0.7827, Accuracy: 75.91%\nShard [3], Epoch [2/3], Loss: 0.5331, Accuracy: 83.47%\nShard [3], Epoch [3/3], Loss: 0.4066, Accuracy: 87.94%\nShard [3], Epoch [1/3], Loss: 0.6010, Accuracy: 82.34%\nShard [3], Epoch [2/3], Loss: 0.3953, Accuracy: 88.24%\nShard [3], Epoch [3/3], Loss: 0.2965, Accuracy: 91.52%\nShard [3], Epoch [1/3], Loss: 0.4772, Accuracy: 86.34%\nShard [3], Epoch [2/3], Loss: 0.3183, Accuracy: 91.03%\nShard [3], Epoch [3/3], Loss: 0.2663, Accuracy: 92.31%\nShard [4], Epoch [1/3], Loss: 1.9347, Accuracy: 29.43%\nShard [4], Epoch [2/3], Loss: 1.1858, Accuracy: 58.26%\nShard [4], Epoch [3/3], Loss: 0.8641, Accuracy: 70.52%\nShard [4], Epoch [1/3], Loss: 0.7652, Accuracy: 74.06%\nShard [4], Epoch [2/3], Loss: 0.6027, Accuracy: 82.17%\nShard [4], Epoch [3/3], Loss: 0.4424, Accuracy: 87.64%\nShard [4], Epoch [1/3], Loss: 0.5038, Accuracy: 86.47%\nShard [4], Epoch [2/3], Loss: 0.4255, Accuracy: 88.10%\nShard [4], Epoch [3/3], Loss: 0.3670, Accuracy: 90.53%\nShard [4], Epoch [1/3], Loss: 0.3669, Accuracy: 89.46%\nShard [4], Epoch [2/3], Loss: 0.2783, Accuracy: 93.01%\nShard [4], Epoch [3/3], Loss: 0.2187, Accuracy: 94.53%\nShard [4], Epoch [1/3], Loss: 0.3050, Accuracy: 92.96%\nShard [4], Epoch [2/3], Loss: 0.2245, Accuracy: 94.58%\nShard [4], Epoch [3/3], Loss: 0.2242, Accuracy: 94.73%\nF1 Score: 0.792\nAccuracy: 0.7920648605457628\nPrecision: 0.792\nRecall: 0.7947295660923179\nAUROC: 0.9738688222222223\nMIA Cross-Validation Score for retainset, and test set for unlearned model: 0.531\nMIA Cross-Validation Score for forgetset, and test set for unlearned model: 0.5102040816326531\n",
          "output_type": "stream"
        }
      ]
    },
    {
      "cell_type": "markdown",
      "source": [
        "# Learn S=5, R=10:"
      ],
      "metadata": {
        "id": "iv5ZLjiFEmM9"
      }
    },
    {
      "cell_type": "code",
      "source": [
        "epochs_per_slice = 3  # Number of epochs for each slice\n",
        "shards = 5\n",
        "slices = 10\n",
        "trained_models = sisa_training(train_loader.dataset, shards, slices, epochs_per_slice, device)\n",
        "f1, accuracy, precision, recall, auroc = evaluate_models(trained_models, test_loader, device)\n",
        "print(f\"F1 Score: {f1}\")\n",
        "print(f\"Accuracy: {accuracy}\")\n",
        "print(f\"Precision: {precision}\")\n",
        "print(f\"Recall: {recall}\")\n",
        "print(f\"AUROC: {auroc}\")\n",
        "# Simulation Question 3:\n",
        "print(f\"MIA Cross-Validation Score for retainset, and test set for trained(not unlearned model): {np.mean(consolidated_function(trained_models, retainloader, test_loader, shards, slices, device))}\")\n",
        "print(f\"MIA Cross-Validation Score for forgetset, and test set for trained(not unlearned model): {np.mean(consolidated_function(trained_models, forgetloader, test_loader, shards, slices, device))}\")"
      ],
      "metadata": {
        "id": "voDn7TIFEmM-"
      },
      "execution_count": null,
      "outputs": []
    },
    {
      "cell_type": "markdown",
      "source": [
        "# Unlearn S=5, R=10:"
      ],
      "metadata": {
        "id": "DMWaAG3mEmM_"
      }
    },
    {
      "cell_type": "code",
      "source": [
        "trained_models = sisa_unlearning(trained_models, random_numbers, shards, slices, epochs_per_slice, train_loader.dataset, device)\n",
        "f1, accuracy, precision, recall, auroc = evaluate_models(trained_models, test_loader, device)\n",
        "print(f\"F1 Score: {f1}\")\n",
        "print(f\"Accuracy: {accuracy}\")\n",
        "print(f\"Precision: {precision}\")\n",
        "print(f\"Recall: {recall}\")\n",
        "print(f\"AUROC: {auroc}\")\n",
        "# Simulation Question 3:\n",
        "print(f\"MIA Cross-Validation Score for retainset, and test set for unlearned model: {np.mean(consolidated_function(trained_models, retainloader, test_loader, shards, slices, device))}\")\n",
        "print(f\"MIA Cross-Validation Score for forgetset, and test set for unlearned model: {np.mean(consolidated_function(trained_models, forgetloader, test_loader, shards, slices, device))}\")"
      ],
      "metadata": {
        "id": "TxVTxOpbEmM_"
      },
      "execution_count": null,
      "outputs": []
    },
    {
      "cell_type": "markdown",
      "source": [
        "# Learn S=5, R=20:"
      ],
      "metadata": {
        "id": "c-84PbGYEmNA"
      }
    },
    {
      "cell_type": "code",
      "source": [
        "epochs_per_slice = 3  # Number of epochs for each slice\n",
        "shards = 5\n",
        "slices = 20\n",
        "trained_models = sisa_training(train_loader.dataset, shards, slices, epochs_per_slice, device)\n",
        "f1, accuracy, precision, recall, auroc = evaluate_models(trained_models, test_loader, device)\n",
        "print(f\"F1 Score: {f1}\")\n",
        "print(f\"Accuracy: {accuracy}\")\n",
        "print(f\"Precision: {precision}\")\n",
        "print(f\"Recall: {recall}\")\n",
        "print(f\"AUROC: {auroc}\")\n",
        "# Simulation Question 3:\n",
        "print(f\"MIA Cross-Validation Score for retainset, and test set for trained(not unlearned model): {np.mean(consolidated_function(trained_models, retainloader, test_loader, shards, slices, device))}\")\n",
        "print(f\"MIA Cross-Validation Score for forgetset, and test set for trained(not unlearned model): {np.mean(consolidated_function(trained_models, forgetloader, test_loader, shards, slices, device))}\")"
      ],
      "metadata": {
        "id": "snnKVpbIEmNB"
      },
      "execution_count": null,
      "outputs": []
    },
    {
      "cell_type": "markdown",
      "source": [
        "# Unlearn S=5, R=20:"
      ],
      "metadata": {
        "id": "xnthyeeAEmNB"
      }
    },
    {
      "cell_type": "code",
      "source": [
        "trained_models = sisa_unlearning(trained_models, random_numbers, shards, slices, epochs_per_slice, train_loader.dataset, device)\n",
        "f1, accuracy, precision, recall, auroc = evaluate_models(trained_models, test_loader, device)\n",
        "print(f\"F1 Score: {f1}\")\n",
        "print(f\"Accuracy: {accuracy}\")\n",
        "print(f\"Precision: {precision}\")\n",
        "print(f\"Recall: {recall}\")\n",
        "print(f\"AUROC: {auroc}\")\n",
        "# Simulation Question 3:\n",
        "print(f\"MIA Cross-Validation Score for retainset, and test set for unlearned model: {np.mean(consolidated_function(trained_models, retainloader, test_loader, shards, slices, device))}\")\n",
        "print(f\"MIA Cross-Validation Score for forgetset, and test set for unlearned model: {np.mean(consolidated_function(trained_models, forgetloader, test_loader, shards, slices, device))}\")"
      ],
      "metadata": {
        "id": "vZbAzqJfEmNC"
      },
      "execution_count": null,
      "outputs": []
    },
    {
      "cell_type": "markdown",
      "source": [
        "# Learn S=10, R=5:"
      ],
      "metadata": {
        "id": "MV_SRNEREmNC"
      }
    },
    {
      "cell_type": "code",
      "source": [
        "epochs_per_slice = 3  # Number of epochs for each slice\n",
        "shards = 10\n",
        "slices = 5\n",
        "trained_models = sisa_training(train_loader.dataset, shards, slices, epochs_per_slice, device)\n",
        "f1, accuracy, precision, recall, auroc = evaluate_models(trained_models, test_loader, device)\n",
        "print(f\"F1 Score: {f1}\")\n",
        "print(f\"Accuracy: {accuracy}\")\n",
        "print(f\"Precision: {precision}\")\n",
        "print(f\"Recall: {recall}\")\n",
        "print(f\"AUROC: {auroc}\")\n",
        "# Simulation Question 3:\n",
        "print(f\"MIA Cross-Validation Score for retainset, and test set for trained(not unlearned model): {np.mean(consolidated_function(trained_models, retainloader, test_loader, shards, slices, device))}\")\n",
        "print(f\"MIA Cross-Validation Score for forgetset, and test set for trained(not unlearned model): {np.mean(consolidated_function(trained_models, forgetloader, test_loader, shards, slices, device))}\")"
      ],
      "metadata": {
        "id": "WnJAPmNqEmND"
      },
      "execution_count": null,
      "outputs": []
    },
    {
      "cell_type": "markdown",
      "source": [
        "# Unlearn S=10, R=5:"
      ],
      "metadata": {
        "id": "XuI2hg3MEmNE"
      }
    },
    {
      "cell_type": "code",
      "source": [
        "trained_models = sisa_unlearning(trained_models, random_numbers, shards, slices, epochs_per_slice, train_loader.dataset, device)\n",
        "f1, accuracy, precision, recall, auroc = evaluate_models(trained_models, test_loader, device)\n",
        "print(f\"F1 Score: {f1}\")\n",
        "print(f\"Accuracy: {accuracy}\")\n",
        "print(f\"Precision: {precision}\")\n",
        "print(f\"Recall: {recall}\")\n",
        "print(f\"AUROC: {auroc}\")\n",
        "# Simulation Question 3:\n",
        "print(f\"MIA Cross-Validation Score for retainset, and test set for unlearned model: {np.mean(consolidated_function(trained_models, retainloader, test_loader, shards, slices, device))}\")\n",
        "print(f\"MIA Cross-Validation Score for forgetset, and test set for unlearned model: {np.mean(consolidated_function(trained_models, forgetloader, test_loader, shards, slices, device))}\")"
      ],
      "metadata": {
        "id": "_EpW8eMtEmNE"
      },
      "execution_count": null,
      "outputs": []
    },
    {
      "cell_type": "markdown",
      "source": [
        "# Learn S=10, R=10:"
      ],
      "metadata": {
        "id": "1g5ba8UgEmNF"
      }
    },
    {
      "cell_type": "code",
      "source": [
        "epochs_per_slice = 3  # Number of epochs for each slice\n",
        "shards = 10\n",
        "slices = 10\n",
        "trained_models = sisa_training(train_loader.dataset, shards, slices, epochs_per_slice, device)\n",
        "f1, accuracy, precision, recall, auroc = evaluate_models(trained_models, test_loader, device)\n",
        "print(f\"F1 Score: {f1}\")\n",
        "print(f\"Accuracy: {accuracy}\")\n",
        "print(f\"Precision: {precision}\")\n",
        "print(f\"Recall: {recall}\")\n",
        "print(f\"AUROC: {auroc}\")\n",
        "# Simulation Question 3:\n",
        "print(f\"MIA Cross-Validation Score for retainset, and test set for trained(not unlearned model): {np.mean(consolidated_function(trained_models, retainloader, test_loader, shards, slices, device))}\")\n",
        "print(f\"MIA Cross-Validation Score for forgetset, and test set for trained(not unlearned model): {np.mean(consolidated_function(trained_models, forgetloader, test_loader, shards, slices, device))}\")"
      ],
      "metadata": {
        "id": "xPUXgiRAEmOm"
      },
      "execution_count": null,
      "outputs": []
    },
    {
      "cell_type": "markdown",
      "source": [
        "# Unlearn S=10, R=10:"
      ],
      "metadata": {
        "id": "dG9opLfEEmOm"
      }
    },
    {
      "cell_type": "code",
      "source": [
        "trained_models = sisa_unlearning(trained_models, random_numbers, shards, slices, epochs_per_slice, train_loader.dataset, device)\n",
        "f1, accuracy, precision, recall, auroc = evaluate_models(trained_models, test_loader, device)\n",
        "print(f\"F1 Score: {f1}\")\n",
        "print(f\"Accuracy: {accuracy}\")\n",
        "print(f\"Precision: {precision}\")\n",
        "print(f\"Recall: {recall}\")\n",
        "print(f\"AUROC: {auroc}\")\n",
        "# Simulation Question 3:\n",
        "print(f\"MIA Cross-Validation Score for retainset, and test set for unlearned model: {np.mean(consolidated_function(trained_models, retainloader, test_loader, shards, slices, device))}\")\n",
        "print(f\"MIA Cross-Validation Score for forgetset, and test set for unlearned model: {np.mean(consolidated_function(trained_models, forgetloader, test_loader, shards, slices, device))}\")"
      ],
      "metadata": {
        "id": "jPDTnfygEmOn"
      },
      "execution_count": null,
      "outputs": []
    },
    {
      "cell_type": "markdown",
      "source": [
        "# Learn S=10, R=20:"
      ],
      "metadata": {
        "id": "5-vCe2pqEmOn"
      }
    },
    {
      "cell_type": "code",
      "source": [
        "epochs_per_slice = 3  # Number of epochs for each slice\n",
        "shards = 10\n",
        "slices = 20\n",
        "trained_models = sisa_training(train_loader.dataset, shards, slices, epochs_per_slice, device)\n",
        "f1, accuracy, precision, recall, auroc = evaluate_models(trained_models, test_loader, device)\n",
        "print(f\"F1 Score: {f1}\")\n",
        "print(f\"Accuracy: {accuracy}\")\n",
        "print(f\"Precision: {precision}\")\n",
        "print(f\"Recall: {recall}\")\n",
        "print(f\"AUROC: {auroc}\")\n",
        "# Simulation Question 3:\n",
        "print(f\"MIA Cross-Validation Score for retainset, and test set for trained(not unlearned model): {np.mean(consolidated_function(trained_models, retainloader, test_loader, shards, slices, device))}\")\n",
        "print(f\"MIA Cross-Validation Score for forgetset, and test set for trained(not unlearned model): {np.mean(consolidated_function(trained_models, forgetloader, test_loader, shards, slices, device))}\")"
      ],
      "metadata": {
        "id": "GyxDzIsOEmOo"
      },
      "execution_count": null,
      "outputs": []
    },
    {
      "cell_type": "markdown",
      "source": [
        "# Unlearn S=10, R=20:"
      ],
      "metadata": {
        "id": "m16pDNQxEmOo"
      }
    },
    {
      "cell_type": "code",
      "source": [
        "trained_models = sisa_unlearning(trained_models, random_numbers, shards, slices, epochs_per_slice, train_loader.dataset, device)\n",
        "f1, accuracy, precision, recall, auroc = evaluate_models(trained_models, test_loader, device)\n",
        "print(f\"F1 Score: {f1}\")\n",
        "print(f\"Accuracy: {accuracy}\")\n",
        "print(f\"Precision: {precision}\")\n",
        "print(f\"Recall: {recall}\")\n",
        "print(f\"AUROC: {auroc}\")\n",
        "# Simulation Question 3:\n",
        "print(f\"MIA Cross-Validation Score for retainset, and test set for unlearned model: {np.mean(consolidated_function(trained_models, retainloader, test_loader, shards, slices, device))}\")\n",
        "print(f\"MIA Cross-Validation Score for forgetset, and test set for unlearned model: {np.mean(consolidated_function(trained_models, forgetloader, test_loader, shards, slices, device))}\")"
      ],
      "metadata": {
        "id": "2h0nqmDrEmOo"
      },
      "execution_count": null,
      "outputs": []
    },
    {
      "cell_type": "markdown",
      "source": [
        "# Learn S=20, R=5:"
      ],
      "metadata": {
        "id": "b7hsrD_XEmOp"
      }
    },
    {
      "cell_type": "code",
      "source": [
        "epochs_per_slice = 3  # Number of epochs for each slice\n",
        "shards = 20\n",
        "slices = 5\n",
        "trained_models = sisa_training(train_loader.dataset, shards, slices, epochs_per_slice, device)\n",
        "f1, accuracy, precision, recall, auroc = evaluate_models(trained_models, test_loader, device)\n",
        "print(f\"F1 Score: {f1}\")\n",
        "print(f\"Accuracy: {accuracy}\")\n",
        "print(f\"Precision: {precision}\")\n",
        "print(f\"Recall: {recall}\")\n",
        "print(f\"AUROC: {auroc}\")\n",
        "# Simulation Question 3:\n",
        "print(f\"MIA Cross-Validation Score for retainset, and test set for trained(not unlearned model): {np.mean(consolidated_function(trained_models, retainloader, test_loader, shards, slices, device))}\")\n",
        "print(f\"MIA Cross-Validation Score for forgetset, and test set for trained(not unlearned model): {np.mean(consolidated_function(trained_models, forgetloader, test_loader, shards, slices, device))}\")"
      ],
      "metadata": {
        "id": "WC9717mLEmOp"
      },
      "execution_count": null,
      "outputs": []
    },
    {
      "cell_type": "markdown",
      "source": [
        "# Unlearn S=20, R=5:"
      ],
      "metadata": {
        "id": "0vjTGZNxEmOq"
      }
    },
    {
      "cell_type": "code",
      "source": [
        "trained_models = sisa_unlearning(trained_models, random_numbers, shards, slices, epochs_per_slice, train_loader.dataset, device)\n",
        "f1, accuracy, precision, recall, auroc = evaluate_models(trained_models, test_loader, device)\n",
        "print(f\"F1 Score: {f1}\")\n",
        "print(f\"Accuracy: {accuracy}\")\n",
        "print(f\"Precision: {precision}\")\n",
        "print(f\"Recall: {recall}\")\n",
        "print(f\"AUROC: {auroc}\")\n",
        "# Simulation Question 3:\n",
        "print(f\"MIA Cross-Validation Score for retainset, and test set for unlearned model: {np.mean(consolidated_function(trained_models, retainloader, test_loader, shards, slices, device))}\")\n",
        "print(f\"MIA Cross-Validation Score for forgetset, and test set for unlearned model: {np.mean(consolidated_function(trained_models, forgetloader, test_loader, shards, slices, device))}\")"
      ],
      "metadata": {
        "id": "kSq5KF6MEmOq"
      },
      "execution_count": null,
      "outputs": []
    },
    {
      "cell_type": "markdown",
      "source": [
        "# Learn S=20, R=10:"
      ],
      "metadata": {
        "id": "nWr0_blFEmOr"
      }
    },
    {
      "cell_type": "code",
      "source": [
        "epochs_per_slice = 3  # Number of epochs for each slice\n",
        "shards = 20\n",
        "slices = 10\n",
        "trained_models = sisa_training(train_loader.dataset, shards, slices, epochs_per_slice, device)\n",
        "f1, accuracy, precision, recall, auroc = evaluate_models(trained_models, test_loader, device)\n",
        "print(f\"F1 Score: {f1}\")\n",
        "print(f\"Accuracy: {accuracy}\")\n",
        "print(f\"Precision: {precision}\")\n",
        "print(f\"Recall: {recall}\")\n",
        "print(f\"AUROC: {auroc}\")\n",
        "# Simulation Question 3:\n",
        "print(f\"MIA Cross-Validation Score for retainset, and test set for trained(not unlearned model): {np.mean(consolidated_function(trained_models, retainloader, test_loader, shards, slices, device))}\")\n",
        "print(f\"MIA Cross-Validation Score for forgetset, and test set for trained(not unlearned model): {np.mean(consolidated_function(trained_models, forgetloader, test_loader, shards, slices, device))}\")"
      ],
      "metadata": {
        "id": "PqIQRzwhEmOs"
      },
      "execution_count": null,
      "outputs": []
    },
    {
      "cell_type": "markdown",
      "source": [
        "# Unlearn S=20, R=10:"
      ],
      "metadata": {
        "id": "n2-1C8egEmOs"
      }
    },
    {
      "cell_type": "code",
      "source": [
        "trained_models = sisa_unlearning(trained_models, random_numbers, shards, slices, epochs_per_slice, train_loader.dataset, device)\n",
        "f1, accuracy, precision, recall, auroc = evaluate_models(trained_models, test_loader, device)\n",
        "print(f\"F1 Score: {f1}\")\n",
        "print(f\"Accuracy: {accuracy}\")\n",
        "print(f\"Precision: {precision}\")\n",
        "print(f\"Recall: {recall}\")\n",
        "print(f\"AUROC: {auroc}\")\n",
        "# Simulation Question 3:\n",
        "print(f\"MIA Cross-Validation Score for retainset, and test set for unlearned model: {np.mean(consolidated_function(trained_models, retainloader, test_loader, shards, slices, device))}\")\n",
        "print(f\"MIA Cross-Validation Score for forgetset, and test set for unlearned model: {np.mean(consolidated_function(trained_models, forgetloader, test_loader, shards, slices, device))}\")"
      ],
      "metadata": {
        "id": "BRUnQUtEEmOs"
      },
      "execution_count": null,
      "outputs": []
    },
    {
      "cell_type": "markdown",
      "source": [
        "# Learn S=20, R=20:"
      ],
      "metadata": {
        "id": "nyiwUZamEmOt"
      }
    },
    {
      "cell_type": "code",
      "source": [
        "epochs_per_slice = 3  # Number of epochs for each slice\n",
        "shards = 20\n",
        "slices = 20\n",
        "trained_models = sisa_training(train_loader.dataset, shards, slices, epochs_per_slice, device)\n",
        "f1, accuracy, precision, recall, auroc = evaluate_models(trained_models, test_loader, device)\n",
        "print(f\"F1 Score: {f1}\")\n",
        "print(f\"Accuracy: {accuracy}\")\n",
        "print(f\"Precision: {precision}\")\n",
        "print(f\"Recall: {recall}\")\n",
        "print(f\"AUROC: {auroc}\")\n",
        "# Simulation Question 3:\n",
        "print(f\"MIA Cross-Validation Score for retainset, and test set for trained(not unlearned model): {np.mean(consolidated_function(trained_models, retainloader, test_loader, shards, slices, device))}\")\n",
        "print(f\"MIA Cross-Validation Score for forgetset, and test set for trained(not unlearned model): {np.mean(consolidated_function(trained_models, forgetloader, test_loader, shards, slices, device))}\")"
      ],
      "metadata": {
        "id": "X0RAGOKtEmO6"
      },
      "execution_count": null,
      "outputs": []
    },
    {
      "cell_type": "markdown",
      "source": [
        "# Unlearn S=20, R=20:\n",
        "\n",
        "\n"
      ],
      "metadata": {
        "id": "JT3WSKf8EmO7"
      }
    },
    {
      "cell_type": "code",
      "source": [
        "trained_models = sisa_unlearning(trained_models, random_numbers, shards, slices, epochs_per_slice, train_loader.dataset, device)\n",
        "f1, accuracy, precision, recall, auroc = evaluate_models(trained_models, test_loader, device)\n",
        "print(f\"F1 Score: {f1}\")\n",
        "print(f\"Accuracy: {accuracy}\")\n",
        "print(f\"Precision: {precision}\")\n",
        "print(f\"Recall: {recall}\")\n",
        "print(f\"AUROC: {auroc}\")\n",
        "# Simulation Question 3:\n",
        "print(f\"MIA Cross-Validation Score for retainset, and test set for unlearned model: {np.mean(consolidated_function(trained_models, retainloader, test_loader, shards, slices, device))}\")\n",
        "print(f\"MIA Cross-Validation Score for forgetset, and test set for unlearned model: {np.mean(consolidated_function(trained_models, forgetloader, test_loader, shards, slices, device))}\")"
      ],
      "metadata": {
        "id": "xSvEW8vxEmO7"
      },
      "execution_count": null,
      "outputs": []
    },
    {
      "cell_type": "markdown",
      "source": [
        "#  1.3.1 Membership Inference Attack -theory\n",
        "What did you expect the result to be for a perfectly unlearned\n",
        " model? How did the SISA Algorithm perform? \\\\\n",
        "For a perfectly unlearned model, we would expect the cross-validation score of the Logistic Regression based Membership Inference Attack to be close to random guessing, i.e., around 50%. This would indicate that the model cannot distinguish between the forget set and the test set, suggesting effective unlearning.After running the above function with the actual losses, compare the cross-validation scores:\n",
        "Trained Model Score: This score is expected to be higher than 50%, indicating that the logistic regression model can distinguish between the forget set and the test set, showing that the original model retained information about the forget set.\n",
        "Unlearned Model Score: This score should be around 50% for a perfectly unlearned model. If the score is significantly higher than 50%, it indicates that the unlearning process was not fully effective."
      ],
      "metadata": {
        "id": "gXen_6bttLXx"
      }
    },
    {
      "cell_type": "markdown",
      "source": [
        "# Number of Shards and Slices"
      ],
      "metadata": {
        "id": "EWChgPc9tskK"
      }
    },
    {
      "cell_type": "markdown",
      "source": [
        "Balanced approach: A moderate number of shards and slices often provides the best balance between diversity and sufficiency of training data. For instance, starting with\n",
        "𝑆\n",
        "=\n",
        "10\n",
        "S=10 and\n",
        "𝑅\n",
        "=\n",
        "10\n",
        "R=10 can be a good starting point.\n",
        "Cross-validation: Use cross-validation to assess the impact of different S and R values on model performance. This helps in choosing values that provide the best generalization and accuracy."
      ],
      "metadata": {
        "id": "DbbkbDGWrn0k"
      }
    },
    {
      "cell_type": "markdown",
      "source": [
        "# Add On. Simulation Question 1:\n"
      ],
      "metadata": {
        "id": "6WTIchRCwyFL"
      }
    },
    {
      "cell_type": "code",
      "source": [
        "def add_poison(images, labels, poison_size, class_index, p, L2_norm, flag=False, is_test=False):\n",
        "    poisoned_indices = None\n",
        "    labels_np = np.array(labels)\n",
        "    if flag:\n",
        "#         print(images.shape)\n",
        "        poison = np.ones((poison_size, poison_size, 3))*np.sqrt(L2_norm/(3*poison_size**2))\n",
        "        if is_test:\n",
        "            poisoned_indices = np.where(labels_np != class_index)[0]\n",
        "        else:\n",
        "#             print(labels_np.shape)\n",
        "            class_indices = np.where(labels_np == class_index)[0]\n",
        "            num_poisoned_images = int(p * len(class_indices))\n",
        "            poisoned_indices = np.random.choice(class_indices, num_poisoned_images, replace=False)\n",
        "#             print(len(class_indices), poisoned_indices.shape)\n",
        "        for i in poisoned_indices:\n",
        "            x = np.random.randint(0, images.shape[1] - poison_size)\n",
        "            y = np.random.randint(0, images.shape[2] - poison_size)\n",
        "            images[i, x:x+poison_size, y:y+poison_size, :] = poison\n",
        "    return images, poisoned_indices\n"
      ],
      "metadata": {
        "id": "AJJ4pSBMEpZM",
        "execution": {
          "iopub.status.busy": "2024-07-02T14:40:30.847924Z",
          "iopub.execute_input": "2024-07-02T14:40:30.848296Z",
          "iopub.status.idle": "2024-07-02T14:40:30.857123Z",
          "shell.execute_reply.started": "2024-07-02T14:40:30.848264Z",
          "shell.execute_reply": "2024-07-02T14:40:30.856087Z"
        },
        "trusted": true
      },
      "execution_count": null,
      "outputs": []
    },
    {
      "cell_type": "code",
      "source": [
        "import matplotlib.pyplot as plt\n",
        "import torch\n",
        "import copy\n",
        "\n",
        "print(f\"Using device: {device}\")\n",
        "\n",
        "epochs_per_slice = 3\n",
        "shards = 5\n",
        "slices = 5\n",
        "\n",
        "train_loader, test_loader = load_and_preprocess_data()\n",
        "\n",
        "train_set = copy.deepcopy(train_loader.dataset)\n",
        "train_set.data, poisoned_indices = add_poison(train_set.data, train_set.targets, 3, 0, 0.1, 0, flag=True, is_test=False)\n",
        "poisoned_train_loader = torch.utils.data.DataLoader(train_set, batch_size=64, shuffle=False)\n",
        "\n",
        "# Function to visualize the images\n",
        "def visualize_poisoned_images(data, poisoned_indices, num_images=5):\n",
        "    plt.figure(figsize=(15, 5))\n",
        "    for i, idx in enumerate(poisoned_indices[:num_images]):\n",
        "        plt.subplot(1, num_images, i + 1)\n",
        "        plt.imshow(data[idx].astype(np.uint8))\n",
        "        plt.title(f\"Poisoned Image {i+1}\")\n",
        "        plt.axis('off')\n",
        "    plt.show()\n",
        "\n",
        "# Visualize some of the poisoned images\n",
        "visualize_poisoned_images(train_set.data, poisoned_indices)\n",
        "\n",
        "# Train models using SISA with pre-poisoned data loader\n",
        "poisoned_trained_models = sisa_training(poisoned_train_loader.dataset, shards, slices, epochs_per_slice, device)\n",
        "\n",
        "# Evaluate the trained models\n",
        "accuracy, f1, recall, precision, auroc = evaluate_models(poisoned_trained_models, test_loader, device)\n",
        "\n",
        "# Print evaluation metrics\n",
        "print(f\"F1 Score: {f1}\")\n",
        "print(f\"Accuracy: {accuracy}\")\n",
        "print(f\"Precision: {precision}\")\n",
        "print(f\"Recall: {recall}\")\n",
        "print(f\"AUROC: {auroc}\")"
      ],
      "metadata": {
        "execution": {
          "iopub.status.busy": "2024-07-02T14:40:36.849223Z",
          "iopub.execute_input": "2024-07-02T14:40:36.849581Z",
          "iopub.status.idle": "2024-07-02T14:43:09.411885Z",
          "shell.execute_reply.started": "2024-07-02T14:40:36.849553Z",
          "shell.execute_reply": "2024-07-02T14:43:09.410825Z"
        },
        "trusted": true,
        "id": "shnxTsC_rhnx",
        "outputId": "dd9c3ada-0bb4-4f36-ff62-9ef51504828c"
      },
      "execution_count": null,
      "outputs": [
        {
          "name": "stdout",
          "text": "Using device: cuda\nFiles already downloaded and verified\nFiles already downloaded and verified\n",
          "output_type": "stream"
        },
        {
          "output_type": "display_data",
          "data": {
            "text/plain": "<Figure size 1500x500 with 5 Axes>",
            "image/png": "[encoded data removed]"
          },
          "metadata": {}
        },
        {
          "name": "stderr",
          "text": "/opt/conda/lib/python3.10/site-packages/torchvision/models/_utils.py:208: UserWarning: The parameter 'pretrained' is deprecated since 0.13 and may be removed in the future, please use 'weights' instead.\n  warnings.warn(\n/opt/conda/lib/python3.10/site-packages/torchvision/models/_utils.py:223: UserWarning: Arguments other than a weight enum or `None` for 'weights' are deprecated since 0.13 and may be removed in the future. The current behavior is equivalent to passing `weights=ResNet18_Weights.IMAGENET1K_V1`. You can also use `weights=ResNet18_Weights.DEFAULT` to get the most up-to-date weights.\n  warnings.warn(msg)\n",
          "output_type": "stream"
        },
        {
          "name": "stdout",
          "text": "Shard [0], Epoch [1/3], Loss: 1.8800, Accuracy: 31.60%\nShard [0], Epoch [2/3], Loss: 1.3581, Accuracy: 53.40%\nShard [0], Epoch [3/3], Loss: 1.0745, Accuracy: 65.40%\nShard [0], Epoch [1/3], Loss: 1.1873, Accuracy: 62.83%\nShard [0], Epoch [2/3], Loss: 0.8799, Accuracy: 73.67%\nShard [0], Epoch [3/3], Loss: 0.7263, Accuracy: 78.90%\nShard [0], Epoch [1/3], Loss: 0.8678, Accuracy: 74.68%\nShard [0], Epoch [2/3], Loss: 0.6550, Accuracy: 80.62%\nShard [0], Epoch [3/3], Loss: 0.5474, Accuracy: 84.00%\nShard [0], Epoch [1/3], Loss: 0.6699, Accuracy: 80.69%\nShard [0], Epoch [2/3], Loss: 0.5107, Accuracy: 84.86%\nShard [0], Epoch [3/3], Loss: 0.4282, Accuracy: 87.62%\nShard [0], Epoch [1/3], Loss: 0.5148, Accuracy: 85.53%\nShard [0], Epoch [2/3], Loss: 0.3834, Accuracy: 89.01%\nShard [0], Epoch [3/3], Loss: 0.3240, Accuracy: 90.76%\nShard [1], Epoch [1/3], Loss: 1.9395, Accuracy: 29.00%\nShard [1], Epoch [2/3], Loss: 1.3929, Accuracy: 53.45%\nShard [1], Epoch [3/3], Loss: 1.2159, Accuracy: 61.35%\nShard [1], Epoch [1/3], Loss: 1.2313, Accuracy: 60.80%\nShard [1], Epoch [2/3], Loss: 0.9831, Accuracy: 69.55%\nShard [1], Epoch [3/3], Loss: 0.7910, Accuracy: 76.58%\nShard [1], Epoch [1/3], Loss: 0.9302, Accuracy: 72.55%\nShard [1], Epoch [2/3], Loss: 0.7155, Accuracy: 79.48%\nShard [1], Epoch [3/3], Loss: 0.5847, Accuracy: 82.82%\nShard [1], Epoch [1/3], Loss: 0.6898, Accuracy: 79.70%\nShard [1], Epoch [2/3], Loss: 0.5247, Accuracy: 84.33%\nShard [1], Epoch [3/3], Loss: 0.4055, Accuracy: 87.88%\nShard [1], Epoch [1/3], Loss: 0.5436, Accuracy: 84.41%\nShard [1], Epoch [2/3], Loss: 0.3977, Accuracy: 88.62%\nShard [1], Epoch [3/3], Loss: 0.3285, Accuracy: 90.65%\nShard [2], Epoch [1/3], Loss: 1.9150, Accuracy: 31.90%\nShard [2], Epoch [2/3], Loss: 1.3863, Accuracy: 54.00%\nShard [2], Epoch [3/3], Loss: 1.1179, Accuracy: 65.60%\nShard [2], Epoch [1/3], Loss: 1.2144, Accuracy: 61.38%\nShard [2], Epoch [2/3], Loss: 0.9374, Accuracy: 70.78%\nShard [2], Epoch [3/3], Loss: 0.7934, Accuracy: 75.60%\nShard [2], Epoch [1/3], Loss: 0.8744, Accuracy: 74.12%\nShard [2], Epoch [2/3], Loss: 0.7337, Accuracy: 78.50%\nShard [2], Epoch [3/3], Loss: 0.5540, Accuracy: 83.37%\nShard [2], Epoch [1/3], Loss: 0.6801, Accuracy: 79.96%\nShard [2], Epoch [2/3], Loss: 0.4910, Accuracy: 85.65%\nShard [2], Epoch [3/3], Loss: 0.4285, Accuracy: 87.54%\nShard [2], Epoch [1/3], Loss: 0.5131, Accuracy: 85.18%\nShard [2], Epoch [2/3], Loss: 0.4380, Accuracy: 87.65%\nShard [2], Epoch [3/3], Loss: 0.3457, Accuracy: 90.46%\nShard [3], Epoch [1/3], Loss: 1.8704, Accuracy: 35.55%\nShard [3], Epoch [2/3], Loss: 1.3214, Accuracy: 55.65%\nShard [3], Epoch [3/3], Loss: 1.0412, Accuracy: 66.95%\nShard [3], Epoch [1/3], Loss: 1.2327, Accuracy: 61.38%\nShard [3], Epoch [2/3], Loss: 0.9759, Accuracy: 69.65%\nShard [3], Epoch [3/3], Loss: 0.8045, Accuracy: 75.38%\nShard [3], Epoch [1/3], Loss: 0.9009, Accuracy: 72.63%\nShard [3], Epoch [2/3], Loss: 0.6778, Accuracy: 79.30%\nShard [3], Epoch [3/3], Loss: 0.5698, Accuracy: 83.57%\nShard [3], Epoch [1/3], Loss: 0.6732, Accuracy: 80.42%\nShard [3], Epoch [2/3], Loss: 0.5112, Accuracy: 85.03%\nShard [3], Epoch [3/3], Loss: 0.4358, Accuracy: 87.65%\nShard [3], Epoch [1/3], Loss: 0.5382, Accuracy: 84.61%\nShard [3], Epoch [2/3], Loss: 0.4041, Accuracy: 88.79%\nShard [3], Epoch [3/3], Loss: 0.3354, Accuracy: 90.38%\nShard [4], Epoch [1/3], Loss: 1.8941, Accuracy: 31.55%\nShard [4], Epoch [2/3], Loss: 1.3775, Accuracy: 51.70%\nShard [4], Epoch [3/3], Loss: 1.1310, Accuracy: 62.15%\nShard [4], Epoch [1/3], Loss: 1.2046, Accuracy: 60.92%\nShard [4], Epoch [2/3], Loss: 0.9656, Accuracy: 70.03%\nShard [4], Epoch [3/3], Loss: 0.7692, Accuracy: 76.90%\nShard [4], Epoch [1/3], Loss: 0.8787, Accuracy: 73.03%\nShard [4], Epoch [2/3], Loss: 0.6805, Accuracy: 80.40%\nShard [4], Epoch [3/3], Loss: 0.5758, Accuracy: 83.28%\nShard [4], Epoch [1/3], Loss: 0.6749, Accuracy: 80.36%\nShard [4], Epoch [2/3], Loss: 0.5436, Accuracy: 83.86%\nShard [4], Epoch [3/3], Loss: 0.4458, Accuracy: 86.99%\nShard [4], Epoch [1/3], Loss: 0.5499, Accuracy: 84.55%\nShard [4], Epoch [2/3], Loss: 0.4193, Accuracy: 87.86%\nShard [4], Epoch [3/3], Loss: 0.3114, Accuracy: 90.92%\nF1 Score: 0.7999216153561906\nAccuracy: 0.8003\nPrecision: 0.8053508784344316\nRecall: 0.8003\nAUROC: 0.9759465555555555\n",
          "output_type": "stream"
        }
      ]
    },
    {
      "cell_type": "markdown",
      "source": [
        "#Add On. Simulation Question 2:"
      ],
      "metadata": {
        "id": "xccnHtS1uQXg"
      }
    },
    {
      "cell_type": "code",
      "source": [
        "def ASR_calculation(models_list, test_loader, class_index, device):\n",
        "    all_labels = []\n",
        "    all_probs = []\n",
        "    all_preds = []\n",
        "\n",
        "    # Set all models to evaluation mode\n",
        "    for models in models_list:\n",
        "        models[-1].eval()\n",
        "\n",
        "    with torch.no_grad():\n",
        "        for data in test_loader:\n",
        "            inputs, labels = data\n",
        "            inputs, labels = inputs.to(device), labels.to(device)\n",
        "\n",
        "            # Collect predictions and probabilities from all models\n",
        "            model_probs = []\n",
        "            for models in models_list:\n",
        "                model = models[-1]\n",
        "                outputs = model(inputs)\n",
        "                probs = torch.softmax(outputs, dim=1)\n",
        "                model_probs.append(probs.cpu().numpy())\n",
        "\n",
        "            # Average probabilities\n",
        "            avg_probs = np.mean(np.array(model_probs), axis=0)\n",
        "            majority_vote_preds = np.argmax(avg_probs, axis=1)\n",
        "\n",
        "            all_labels.extend(labels.cpu().numpy())\n",
        "            all_probs.extend(avg_probs)\n",
        "            all_preds.extend(majority_vote_preds)\n",
        "\n",
        "    # Calculate accuracy\n",
        "    accuracy = accuracy_score(all_labels, all_preds)\n",
        "\n",
        "    # Calculate percentage of wrong predictions for class_index\n",
        "    total_samples = len(all_labels)\n",
        "    wrong_predictions = sum(1 for true_label, pred_label in zip(all_labels, all_preds) if pred_label != class_index)\n",
        "    percentage_wrong = (wrong_predictions / total_samples) * 100\n",
        "\n",
        "    return accuracy, percentage_wrong"
      ],
      "metadata": {
        "execution": {
          "iopub.status.busy": "2024-07-02T14:44:37.924501Z",
          "iopub.execute_input": "2024-07-02T14:44:37.924903Z",
          "iopub.status.idle": "2024-07-02T14:44:37.935227Z",
          "shell.execute_reply.started": "2024-07-02T14:44:37.924869Z",
          "shell.execute_reply": "2024-07-02T14:44:37.934327Z"
        },
        "trusted": true,
        "id": "D0I8t46Srhnx"
      },
      "execution_count": null,
      "outputs": []
    },
    {
      "cell_type": "code",
      "source": [
        "test_set = copy.deepcopy(test_loader.dataset)\n",
        "test_set.data, poisoned_indices_test = add_poison(test_set.data, test_set.targets, 3, 0, 0.1, 0, flag=True, is_test=True)\n",
        "poisoned_test_loader = torch.utils.data.DataLoader(test_set, batch_size=64, shuffle=False)\n",
        "\n",
        "# Function to visualize the images\n",
        "def visualize_poisoned_images(data, poisoned_indices, num_images=5):\n",
        "    plt.figure(figsize=(15, 5))\n",
        "    for i, idx in enumerate(poisoned_indices[:num_images]):\n",
        "        plt.subplot(1, num_images, i + 1)\n",
        "        plt.imshow(data[idx].astype(np.uint8))\n",
        "        plt.title(f\"Poisoned Image {i+1}\")\n",
        "        plt.axis('off')\n",
        "    plt.show()\n",
        "\n",
        "# Visualize some of the poisoned images\n",
        "visualize_poisoned_images(test_set.data, poisoned_indices_test)\n",
        "\n",
        "\n",
        "accuracy, percentage_wrong = ASR_calculation(poisoned_trained_models, poisoned_test_loader, 0, device)\n",
        "print(f\"Accuracy: {accuracy:.2f}%\")\n",
        "print(f\"Percentage of wrong predictions for class {0}: {percentage_wrong:.2f}%\")"
      ],
      "metadata": {
        "execution": {
          "iopub.status.busy": "2024-07-02T14:44:49.776679Z",
          "iopub.execute_input": "2024-07-02T14:44:49.777340Z",
          "iopub.status.idle": "2024-07-02T14:44:56.674718Z",
          "shell.execute_reply.started": "2024-07-02T14:44:49.777302Z",
          "shell.execute_reply": "2024-07-02T14:44:56.673883Z"
        },
        "trusted": true,
        "id": "eY23rg2Lrhnx",
        "outputId": "53e2f1e2-7731-4638-81b9-2569c7acacfc"
      },
      "execution_count": null,
      "outputs": [
        {
          "output_type": "display_data",
          "data": {
            "text/plain": "<Figure size 1500x500 with 5 Axes>",
            "image/png": "[encoded data removed]"
          },
          "metadata": {}
        },
        {
          "name": "stdout",
          "text": "Accuracy: 0.75%\nPercentage of wrong predictions for class 0: 87.79%\n",
          "output_type": "stream"
        }
      ]
    },
    {
      "cell_type": "code",
      "source": [
        "poisoned_trained_models = sisa_unlearning(poisoned_trained_models, list(poisoned_indices), shards, slices, epochs_per_slice, poisoned_train_loader.dataset, device)"
      ],
      "metadata": {
        "execution": {
          "iopub.status.busy": "2024-07-02T14:47:01.021423Z",
          "iopub.execute_input": "2024-07-02T14:47:01.021800Z",
          "iopub.status.idle": "2024-07-02T14:51:05.255231Z",
          "shell.execute_reply.started": "2024-07-02T14:47:01.021757Z",
          "shell.execute_reply": "2024-07-02T14:51:05.254350Z"
        },
        "trusted": true,
        "id": "YXm1ErP3rhnx",
        "outputId": "59bc07dc-2856-4a6f-91bf-6aa30f917fd8"
      },
      "execution_count": null,
      "outputs": [
        {
          "name": "stderr",
          "text": "/opt/conda/lib/python3.10/site-packages/torchvision/models/_utils.py:208: UserWarning: The parameter 'pretrained' is deprecated since 0.13 and may be removed in the future, please use 'weights' instead.\n  warnings.warn(\n/opt/conda/lib/python3.10/site-packages/torchvision/models/_utils.py:223: UserWarning: Arguments other than a weight enum or `None` for 'weights' are deprecated since 0.13 and may be removed in the future. The current behavior is equivalent to passing `weights=ResNet18_Weights.IMAGENET1K_V1`. You can also use `weights=ResNet18_Weights.DEFAULT` to get the most up-to-date weights.\n  warnings.warn(msg)\n",
          "output_type": "stream"
        },
        {
          "name": "stdout",
          "text": "Shard [0], Epoch [1/3], Loss: 1.9289, Accuracy: 33.45%\nShard [0], Epoch [2/3], Loss: 1.2250, Accuracy: 58.16%\nShard [0], Epoch [3/3], Loss: 0.8441, Accuracy: 73.42%\nShard [0], Epoch [1/3], Loss: 1.0601, Accuracy: 67.04%\nShard [0], Epoch [2/3], Loss: 0.7074, Accuracy: 79.00%\nShard [0], Epoch [3/3], Loss: 0.5324, Accuracy: 83.57%\nShard [0], Epoch [1/3], Loss: 0.7499, Accuracy: 77.94%\nShard [0], Epoch [2/3], Loss: 0.5430, Accuracy: 84.01%\nShard [0], Epoch [3/3], Loss: 0.4119, Accuracy: 87.71%\nShard [0], Epoch [1/3], Loss: 0.6052, Accuracy: 82.25%\nShard [0], Epoch [2/3], Loss: 0.3887, Accuracy: 88.62%\nShard [0], Epoch [3/3], Loss: 0.3041, Accuracy: 91.47%\nShard [0], Epoch [1/3], Loss: 0.4632, Accuracy: 86.77%\nShard [0], Epoch [2/3], Loss: 0.3143, Accuracy: 91.18%\nShard [0], Epoch [3/3], Loss: 0.2530, Accuracy: 92.82%\nShard [1], Epoch [1/3], Loss: 1.9578, Accuracy: 29.25%\nShard [1], Epoch [2/3], Loss: 1.2420, Accuracy: 57.70%\nShard [1], Epoch [3/3], Loss: 0.8622, Accuracy: 72.16%\nShard [1], Epoch [1/3], Loss: 1.1000, Accuracy: 64.65%\nShard [1], Epoch [2/3], Loss: 0.8529, Accuracy: 73.72%\nShard [1], Epoch [3/3], Loss: 0.7733, Accuracy: 79.71%\nShard [1], Epoch [1/3], Loss: 0.8353, Accuracy: 75.20%\nShard [1], Epoch [2/3], Loss: 0.5603, Accuracy: 83.40%\nShard [1], Epoch [3/3], Loss: 0.4712, Accuracy: 86.01%\nShard [1], Epoch [1/3], Loss: 0.6313, Accuracy: 81.87%\nShard [1], Epoch [2/3], Loss: 0.4443, Accuracy: 86.88%\nShard [1], Epoch [3/3], Loss: 0.3295, Accuracy: 90.41%\nShard [1], Epoch [1/3], Loss: 0.4944, Accuracy: 85.99%\nShard [1], Epoch [2/3], Loss: 0.3364, Accuracy: 90.39%\nShard [1], Epoch [3/3], Loss: 0.2763, Accuracy: 91.93%\nShard [2], Epoch [1/3], Loss: 1.9959, Accuracy: 28.07%\nShard [2], Epoch [2/3], Loss: 1.2291, Accuracy: 58.61%\nShard [2], Epoch [3/3], Loss: 0.8787, Accuracy: 71.28%\nShard [2], Epoch [1/3], Loss: 1.0893, Accuracy: 66.36%\nShard [2], Epoch [2/3], Loss: 0.7312, Accuracy: 77.37%\nShard [2], Epoch [3/3], Loss: 0.5317, Accuracy: 84.39%\nShard [2], Epoch [1/3], Loss: 0.7816, Accuracy: 77.34%\nShard [2], Epoch [2/3], Loss: 0.5313, Accuracy: 83.99%\nShard [2], Epoch [3/3], Loss: 0.4243, Accuracy: 87.51%\nShard [2], Epoch [1/3], Loss: 0.6136, Accuracy: 82.54%\nShard [2], Epoch [2/3], Loss: 0.4220, Accuracy: 87.74%\nShard [2], Epoch [3/3], Loss: 0.3304, Accuracy: 90.35%\nShard [2], Epoch [1/3], Loss: 0.5143, Accuracy: 85.54%\nShard [2], Epoch [2/3], Loss: 0.3580, Accuracy: 90.36%\nShard [2], Epoch [3/3], Loss: 0.2710, Accuracy: 92.30%\nShard [3], Epoch [1/3], Loss: 1.9460, Accuracy: 30.25%\nShard [3], Epoch [2/3], Loss: 1.2197, Accuracy: 59.94%\nShard [3], Epoch [3/3], Loss: 0.7968, Accuracy: 73.95%\nShard [3], Epoch [1/3], Loss: 1.0927, Accuracy: 65.40%\nShard [3], Epoch [2/3], Loss: 0.7384, Accuracy: 77.23%\nShard [3], Epoch [3/3], Loss: 0.5405, Accuracy: 83.76%\nShard [3], Epoch [1/3], Loss: 0.7840, Accuracy: 76.82%\nShard [3], Epoch [2/3], Loss: 0.5256, Accuracy: 84.34%\nShard [3], Epoch [3/3], Loss: 0.4310, Accuracy: 87.00%\nShard [3], Epoch [1/3], Loss: 0.6078, Accuracy: 82.75%\nShard [3], Epoch [2/3], Loss: 0.3887, Accuracy: 88.50%\nShard [3], Epoch [3/3], Loss: 0.3150, Accuracy: 90.76%\nShard [3], Epoch [1/3], Loss: 0.4771, Accuracy: 86.79%\nShard [3], Epoch [2/3], Loss: 0.3485, Accuracy: 90.27%\nShard [3], Epoch [3/3], Loss: 0.3115, Accuracy: 91.01%\nShard [4], Epoch [1/3], Loss: 1.9126, Accuracy: 31.21%\nShard [4], Epoch [2/3], Loss: 1.2346, Accuracy: 57.88%\nShard [4], Epoch [3/3], Loss: 0.7940, Accuracy: 73.99%\nShard [4], Epoch [1/3], Loss: 0.7650, Accuracy: 76.52%\nShard [4], Epoch [2/3], Loss: 0.5511, Accuracy: 84.34%\nShard [4], Epoch [3/3], Loss: 0.4053, Accuracy: 87.83%\nShard [4], Epoch [1/3], Loss: 0.5073, Accuracy: 85.45%\nShard [4], Epoch [2/3], Loss: 0.3463, Accuracy: 89.90%\nShard [4], Epoch [3/3], Loss: 0.2796, Accuracy: 92.53%\nShard [4], Epoch [1/3], Loss: 0.4402, Accuracy: 89.60%\nShard [4], Epoch [2/3], Loss: 0.3071, Accuracy: 91.62%\nShard [4], Epoch [3/3], Loss: 0.1397, Accuracy: 96.36%\nShard [4], Epoch [1/3], Loss: 0.2644, Accuracy: 93.33%\nShard [4], Epoch [2/3], Loss: 0.3224, Accuracy: 91.97%\nShard [4], Epoch [3/3], Loss: 0.1539, Accuracy: 96.36%\n",
          "output_type": "stream"
        }
      ]
    },
    {
      "cell_type": "code",
      "source": [
        "accuracy, percentage_wrong = ASR_calculation(poisoned_trained_models, poisoned_test_loader, 0, device)\n",
        "print(f\"Accuracy: {accuracy:.2f}%\")\n",
        "print(f\"Percentage of wrong predictions for class {0}: {percentage_wrong:.2f}%\")"
      ],
      "metadata": {
        "execution": {
          "iopub.status.busy": "2024-07-02T14:58:44.122414Z",
          "iopub.execute_input": "2024-07-02T14:58:44.123229Z",
          "iopub.status.idle": "2024-07-02T14:58:50.402014Z",
          "shell.execute_reply.started": "2024-07-02T14:58:44.123195Z",
          "shell.execute_reply": "2024-07-02T14:58:50.401111Z"
        },
        "trusted": true,
        "id": "PFIXAil1rhnx",
        "outputId": "8dbdc08d-289c-4da5-b8b8-c4ab9a7a0c37"
      },
      "execution_count": null,
      "outputs": [
        {
          "name": "stdout",
          "text": "Accuracy: 0.75%\nPercentage of wrong predictions for class 0: 88.80%\n",
          "output_type": "stream"
        }
      ]
    }
  ]
}